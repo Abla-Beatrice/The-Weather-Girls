{
 "cells": [
  {
   "cell_type": "code",
   "execution_count": 1,
   "metadata": {},
   "outputs": [],
   "source": [
    "# Dependencies and Setup\n",
    "import pandas as pd\n",
    "import json\n",
    "import os"
   ]
  },
  {
   "cell_type": "code",
   "execution_count": 10,
   "metadata": {},
   "outputs": [],
   "source": [
    "combine_data=[]\n",
    "\n",
    "for json_file in os.listdir('Resources'):\n",
    "    with open('Resources/'+json_file) as f:\n",
    "        json_2 = json.load(f)\n",
    "        data = json_2['results']\n",
    "        \n",
    "        for item in data:\n",
    "            item.update({'city_id':json_file.split(\"_\")[0]})\n",
    "        combine_data.extend(data)\n",
    "    "
   ]
  },
  {
   "cell_type": "code",
   "execution_count": 11,
   "metadata": {},
   "outputs": [],
   "source": [
    "final_data = pd.DataFrame(combine_data)\n"
   ]
  },
  {
   "cell_type": "code",
   "execution_count": 12,
   "metadata": {},
   "outputs": [
    {
     "data": {
      "text/html": [
       "<div>\n",
       "<style scoped>\n",
       "    .dataframe tbody tr th:only-of-type {\n",
       "        vertical-align: middle;\n",
       "    }\n",
       "\n",
       "    .dataframe tbody tr th {\n",
       "        vertical-align: top;\n",
       "    }\n",
       "\n",
       "    .dataframe thead th {\n",
       "        text-align: right;\n",
       "    }\n",
       "</style>\n",
       "<table border=\"1\" class=\"dataframe\">\n",
       "  <thead>\n",
       "    <tr style=\"text-align: right;\">\n",
       "      <th></th>\n",
       "      <th>date</th>\n",
       "      <th>datatype</th>\n",
       "      <th>station</th>\n",
       "      <th>attributes</th>\n",
       "      <th>value</th>\n",
       "      <th>city_id</th>\n",
       "    </tr>\n",
       "  </thead>\n",
       "  <tbody>\n",
       "    <tr>\n",
       "      <th>0</th>\n",
       "      <td>1981-01-01T00:00:00</td>\n",
       "      <td>DP01</td>\n",
       "      <td>GHCND:USW00014910</td>\n",
       "      <td>0</td>\n",
       "      <td>106.0</td>\n",
       "      <td>CLIM:2704</td>\n",
       "    </tr>\n",
       "    <tr>\n",
       "      <th>1</th>\n",
       "      <td>1981-01-01T00:00:00</td>\n",
       "      <td>DP10</td>\n",
       "      <td>GHCND:USW00014910</td>\n",
       "      <td>0</td>\n",
       "      <td>49.0</td>\n",
       "      <td>CLIM:2704</td>\n",
       "    </tr>\n",
       "    <tr>\n",
       "      <th>2</th>\n",
       "      <td>1981-01-01T00:00:00</td>\n",
       "      <td>DP1X</td>\n",
       "      <td>GHCND:USW00014910</td>\n",
       "      <td>0</td>\n",
       "      <td>6.0</td>\n",
       "      <td>CLIM:2704</td>\n",
       "    </tr>\n",
       "    <tr>\n",
       "      <th>3</th>\n",
       "      <td>1981-01-01T00:00:00</td>\n",
       "      <td>DSND</td>\n",
       "      <td>GHCND:USW00014910</td>\n",
       "      <td>NaN</td>\n",
       "      <td>74.0</td>\n",
       "      <td>CLIM:2704</td>\n",
       "    </tr>\n",
       "    <tr>\n",
       "      <th>4</th>\n",
       "      <td>1981-01-01T00:00:00</td>\n",
       "      <td>DSNW</td>\n",
       "      <td>GHCND:USW00014910</td>\n",
       "      <td>0</td>\n",
       "      <td>6.0</td>\n",
       "      <td>CLIM:2704</td>\n",
       "    </tr>\n",
       "  </tbody>\n",
       "</table>\n",
       "</div>"
      ],
      "text/plain": [
       "                  date datatype            station attributes  value  \\\n",
       "0  1981-01-01T00:00:00     DP01  GHCND:USW00014910          0  106.0   \n",
       "1  1981-01-01T00:00:00     DP10  GHCND:USW00014910          0   49.0   \n",
       "2  1981-01-01T00:00:00     DP1X  GHCND:USW00014910          0    6.0   \n",
       "3  1981-01-01T00:00:00     DSND  GHCND:USW00014910        NaN   74.0   \n",
       "4  1981-01-01T00:00:00     DSNW  GHCND:USW00014910          0    6.0   \n",
       "\n",
       "     city_id  \n",
       "0  CLIM:2704  \n",
       "1  CLIM:2704  \n",
       "2  CLIM:2704  \n",
       "3  CLIM:2704  \n",
       "4  CLIM:2704  "
      ]
     },
     "execution_count": 12,
     "metadata": {},
     "output_type": "execute_result"
    }
   ],
   "source": [
    "final_data.head()"
   ]
  },
  {
   "cell_type": "code",
   "execution_count": 13,
   "metadata": {},
   "outputs": [],
   "source": [
    "final_data.to_csv('master_data.csv', index = False )"
   ]
  },
  {
   "cell_type": "code",
   "execution_count": null,
   "metadata": {},
   "outputs": [],
   "source": []
  }
 ],
 "metadata": {
  "kernelspec": {
   "display_name": "Python [conda env:PythonData] *",
   "language": "python",
   "name": "conda-env-PythonData-py"
  },
  "language_info": {
   "codemirror_mode": {
    "name": "ipython",
    "version": 3
   },
   "file_extension": ".py",
   "mimetype": "text/x-python",
   "name": "python",
   "nbconvert_exporter": "python",
   "pygments_lexer": "ipython3",
   "version": "3.6.10"
  }
 },
 "nbformat": 4,
 "nbformat_minor": 4
}
